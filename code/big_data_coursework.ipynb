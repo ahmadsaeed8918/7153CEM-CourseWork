{
  "nbformat": 4,
  "nbformat_minor": 0,
  "metadata": {
    "colab": {
      "provenance": []
    },
    "kernelspec": {
      "name": "python3",
      "display_name": "Python 3"
    },
    "language_info": {
      "name": "python"
    }
  },
  "cells": [
    {
      "cell_type": "code",
      "execution_count": null,
      "metadata": {
        "colab": {
          "base_uri": "https://localhost:8080/"
        },
        "id": "qoul4wgfVEgc",
        "outputId": "174df7fc-d4af-4395-b0b6-1b1c02822de0"
      },
      "outputs": [
        {
          "output_type": "stream",
          "name": "stdout",
          "text": [
            "Collecting pyspark\n",
            "  Downloading pyspark-3.4.1.tar.gz (310.8 MB)\n",
            "\u001b[2K     \u001b[90m━━━━━━━━━━━━━━━━━━━━━━━━━━━━━━━━━━━━━━━\u001b[0m \u001b[32m310.8/310.8 MB\u001b[0m \u001b[31m3.3 MB/s\u001b[0m eta \u001b[36m0:00:00\u001b[0m\n",
            "\u001b[?25h  Preparing metadata (setup.py) ... \u001b[?25l\u001b[?25hdone\n",
            "Requirement already satisfied: py4j==0.10.9.7 in /usr/local/lib/python3.10/dist-packages (from pyspark) (0.10.9.7)\n",
            "Building wheels for collected packages: pyspark\n",
            "  Building wheel for pyspark (setup.py) ... \u001b[?25l\u001b[?25hdone\n",
            "  Created wheel for pyspark: filename=pyspark-3.4.1-py2.py3-none-any.whl size=311285388 sha256=3eb505bffcf334cae65771ea8b3b94c8fd14b202c4c17e4afbabb37ca6dcdb7a\n",
            "  Stored in directory: /root/.cache/pip/wheels/0d/77/a3/ff2f74cc9ab41f8f594dabf0579c2a7c6de920d584206e0834\n",
            "Successfully built pyspark\n",
            "Installing collected packages: pyspark\n",
            "Successfully installed pyspark-3.4.1\n"
          ]
        }
      ],
      "source": [
        "!pip install pyspark"
      ]
    },
    {
      "cell_type": "code",
      "source": [
        "from pyspark.sql import SparkSession\n",
        "\n",
        "\n",
        "# Create a Spark session\n",
        "spark = SparkSession.builder.appName(\"HeartDiseaseClassification\").getOrCreate()\n",
        "\n",
        "# Load the dataset into a DataFrame\n",
        "df = spark.read.csv(\"/content/heart_2020_cleaned.csv\", header=True, inferSchema=True)\n",
        "df.show()"
      ],
      "metadata": {
        "colab": {
          "base_uri": "https://localhost:8080/"
        },
        "id": "PDdOLfqvVlQ6",
        "outputId": "1301084a-d128-4170-ec1a-8c6a436ad862"
      },
      "execution_count": null,
      "outputs": [
        {
          "output_type": "stream",
          "name": "stdout",
          "text": [
            "+------------+-----+-------+---------------+------+--------------+------------+-----------+------+-----------+-----+--------------------+----------------+---------+---------+------+-------------+----------+\n",
            "|HeartDisease|  BMI|Smoking|AlcoholDrinking|Stroke|PhysicalHealth|MentalHealth|DiffWalking|   Sex|AgeCategory| Race|            Diabetic|PhysicalActivity|GenHealth|SleepTime|Asthma|KidneyDisease|SkinCancer|\n",
            "+------------+-----+-------+---------------+------+--------------+------------+-----------+------+-----------+-----+--------------------+----------------+---------+---------+------+-------------+----------+\n",
            "|          No| 16.6|    Yes|             No|    No|           3.0|        30.0|         No|Female|      55-59|White|                 Yes|             Yes|Very good|      5.0|   Yes|           No|       Yes|\n",
            "|          No|20.34|     No|             No|   Yes|           0.0|         0.0|         No|Female|80 or older|White|                  No|             Yes|Very good|      7.0|    No|           No|        No|\n",
            "|          No|26.58|    Yes|             No|    No|          20.0|        30.0|         No|  Male|      65-69|White|                 Yes|             Yes|     Fair|      8.0|   Yes|           No|        No|\n",
            "|          No|24.21|     No|             No|    No|           0.0|         0.0|         No|Female|      75-79|White|                  No|              No|     Good|      6.0|    No|           No|       Yes|\n",
            "|          No|23.71|     No|             No|    No|          28.0|         0.0|        Yes|Female|      40-44|White|                  No|             Yes|Very good|      8.0|    No|           No|        No|\n",
            "|         Yes|28.87|    Yes|             No|    No|           6.0|         0.0|        Yes|Female|      75-79|Black|                  No|              No|     Fair|     12.0|    No|           No|        No|\n",
            "|          No|21.63|     No|             No|    No|          15.0|         0.0|         No|Female|      70-74|White|                  No|             Yes|     Fair|      4.0|   Yes|           No|       Yes|\n",
            "|          No|31.64|    Yes|             No|    No|           5.0|         0.0|        Yes|Female|80 or older|White|                 Yes|              No|     Good|      9.0|   Yes|           No|        No|\n",
            "|          No|26.45|     No|             No|    No|           0.0|         0.0|         No|Female|80 or older|White|No, borderline di...|              No|     Fair|      5.0|    No|          Yes|        No|\n",
            "|          No|40.69|     No|             No|    No|           0.0|         0.0|        Yes|  Male|      65-69|White|                  No|             Yes|     Good|     10.0|    No|           No|        No|\n",
            "|         Yes| 34.3|    Yes|             No|    No|          30.0|         0.0|        Yes|  Male|      60-64|White|                 Yes|              No|     Poor|     15.0|   Yes|           No|        No|\n",
            "|          No|28.71|    Yes|             No|    No|           0.0|         0.0|         No|Female|      55-59|White|                  No|             Yes|Very good|      5.0|    No|           No|        No|\n",
            "|          No|28.37|    Yes|             No|    No|           0.0|         0.0|        Yes|  Male|      75-79|White|                 Yes|             Yes|Very good|      8.0|    No|           No|        No|\n",
            "|          No|28.15|     No|             No|    No|           7.0|         0.0|        Yes|Female|80 or older|White|                  No|              No|     Good|      7.0|    No|           No|        No|\n",
            "|          No|29.29|    Yes|             No|    No|           0.0|        30.0|        Yes|Female|      60-64|White|                  No|              No|     Good|      5.0|    No|           No|        No|\n",
            "|          No|29.18|     No|             No|    No|           1.0|         0.0|         No|Female|      50-54|White|                  No|             Yes|Very good|      6.0|    No|           No|        No|\n",
            "|          No|26.26|     No|             No|    No|           5.0|         2.0|         No|Female|      70-74|White|                  No|              No|Very good|     10.0|    No|           No|        No|\n",
            "|          No|22.59|    Yes|             No|    No|           0.0|        30.0|        Yes|  Male|      70-74|White|No, borderline di...|             Yes|     Good|      8.0|    No|           No|        No|\n",
            "|          No|29.86|    Yes|             No|    No|           0.0|         0.0|        Yes|Female|      75-79|Black|                 Yes|              No|     Fair|      5.0|    No|          Yes|        No|\n",
            "|          No|18.13|     No|             No|    No|           0.0|         0.0|         No|  Male|80 or older|White|                  No|             Yes|Excellent|      8.0|    No|           No|       Yes|\n",
            "+------------+-----+-------+---------------+------+--------------+------------+-----------+------+-----------+-----+--------------------+----------------+---------+---------+------+-------------+----------+\n",
            "only showing top 20 rows\n",
            "\n"
          ]
        }
      ]
    },
    {
      "cell_type": "code",
      "source": [
        "df.count()"
      ],
      "metadata": {
        "colab": {
          "base_uri": "https://localhost:8080/"
        },
        "id": "3x557Av8WOpu",
        "outputId": "b9e7f372-6e44-4743-e606-a44cd6f38f9c"
      },
      "execution_count": null,
      "outputs": [
        {
          "output_type": "execute_result",
          "data": {
            "text/plain": [
              "319795"
            ]
          },
          "metadata": {},
          "execution_count": 3
        }
      ]
    },
    {
      "cell_type": "code",
      "source": [
        "len(df.columns)"
      ],
      "metadata": {
        "colab": {
          "base_uri": "https://localhost:8080/"
        },
        "id": "RZOwnJH1WSVV",
        "outputId": "28d6da79-0a8c-4dda-9f8b-ecd6fa32a8ca"
      },
      "execution_count": null,
      "outputs": [
        {
          "output_type": "execute_result",
          "data": {
            "text/plain": [
              "18"
            ]
          },
          "metadata": {},
          "execution_count": 5
        }
      ]
    },
    {
      "cell_type": "code",
      "source": [
        "df.printSchema()"
      ],
      "metadata": {
        "colab": {
          "base_uri": "https://localhost:8080/"
        },
        "id": "xnu2rfRDWmqO",
        "outputId": "9f3fb07c-53d4-43a1-fc8d-81ce35953adb"
      },
      "execution_count": null,
      "outputs": [
        {
          "output_type": "stream",
          "name": "stdout",
          "text": [
            "root\n",
            " |-- HeartDisease: string (nullable = true)\n",
            " |-- BMI: double (nullable = true)\n",
            " |-- Smoking: string (nullable = true)\n",
            " |-- AlcoholDrinking: string (nullable = true)\n",
            " |-- Stroke: string (nullable = true)\n",
            " |-- PhysicalHealth: double (nullable = true)\n",
            " |-- MentalHealth: double (nullable = true)\n",
            " |-- DiffWalking: string (nullable = true)\n",
            " |-- Sex: string (nullable = true)\n",
            " |-- AgeCategory: string (nullable = true)\n",
            " |-- Race: string (nullable = true)\n",
            " |-- Diabetic: string (nullable = true)\n",
            " |-- PhysicalActivity: string (nullable = true)\n",
            " |-- GenHealth: string (nullable = true)\n",
            " |-- SleepTime: double (nullable = true)\n",
            " |-- Asthma: string (nullable = true)\n",
            " |-- KidneyDisease: string (nullable = true)\n",
            " |-- SkinCancer: string (nullable = true)\n",
            "\n"
          ]
        }
      ]
    },
    {
      "cell_type": "code",
      "source": [
        "df.describe().show()"
      ],
      "metadata": {
        "colab": {
          "base_uri": "https://localhost:8080/"
        },
        "id": "CJcVPLLDWrlP",
        "outputId": "012d2b76-e200-41c0-b4a0-6045a349da53"
      },
      "execution_count": null,
      "outputs": [
        {
          "output_type": "stream",
          "name": "stdout",
          "text": [
            "+-------+------------+------------------+-------+---------------+------+------------------+-----------------+-----------+------+-----------+--------------------+--------------------+----------------+---------+------------------+------+-------------+----------+\n",
            "|summary|HeartDisease|               BMI|Smoking|AlcoholDrinking|Stroke|    PhysicalHealth|     MentalHealth|DiffWalking|   Sex|AgeCategory|                Race|            Diabetic|PhysicalActivity|GenHealth|         SleepTime|Asthma|KidneyDisease|SkinCancer|\n",
            "+-------+------------+------------------+-------+---------------+------+------------------+-----------------+-----------+------+-----------+--------------------+--------------------+----------------+---------+------------------+------+-------------+----------+\n",
            "|  count|      319795|            319795| 319795|         319795|319795|            319795|           319795|     319795|319795|     319795|              319795|              319795|          319795|   319795|            319795|319795|       319795|    319795|\n",
            "|   mean|        null|28.325398520925706|   null|           null|  null|3.3717100017198516|3.898366140808956|       null|  null|       null|                null|                null|            null|     null| 7.097074688472302|  null|         null|      null|\n",
            "| stddev|        null| 6.356100200470763|   null|           null|  null| 7.950850182571355|7.955235218943604|       null|  null|       null|                null|                null|            null|     null|1.4360070609642803|  null|         null|      null|\n",
            "|    min|          No|             12.02|     No|             No|    No|               0.0|              0.0|         No|Female|      18-24|American Indian/A...|                  No|              No|Excellent|               1.0|    No|           No|        No|\n",
            "|    max|         Yes|             94.85|    Yes|            Yes|   Yes|              30.0|             30.0|        Yes|  Male|80 or older|               White|Yes (during pregn...|             Yes|Very good|              24.0|   Yes|          Yes|       Yes|\n",
            "+-------+------------+------------------+-------+---------------+------+------------------+-----------------+-----------+------+-----------+--------------------+--------------------+----------------+---------+------------------+------+-------------+----------+\n",
            "\n"
          ]
        }
      ]
    },
    {
      "cell_type": "code",
      "source": [
        "df.head(5)"
      ],
      "metadata": {
        "colab": {
          "base_uri": "https://localhost:8080/"
        },
        "id": "YkNLM6InW1Zv",
        "outputId": "97caa29c-1346-45c0-f37c-c3ffd4582d5e"
      },
      "execution_count": null,
      "outputs": [
        {
          "output_type": "execute_result",
          "data": {
            "text/plain": [
              "[Row(HeartDisease='No', BMI=16.6, Smoking='Yes', AlcoholDrinking='No', Stroke='No', PhysicalHealth=3.0, MentalHealth=30.0, DiffWalking='No', Sex='Female', AgeCategory='55-59', Race='White', Diabetic='Yes', PhysicalActivity='Yes', GenHealth='Very good', SleepTime=5.0, Asthma='Yes', KidneyDisease='No', SkinCancer='Yes'),\n",
              " Row(HeartDisease='No', BMI=20.34, Smoking='No', AlcoholDrinking='No', Stroke='Yes', PhysicalHealth=0.0, MentalHealth=0.0, DiffWalking='No', Sex='Female', AgeCategory='80 or older', Race='White', Diabetic='No', PhysicalActivity='Yes', GenHealth='Very good', SleepTime=7.0, Asthma='No', KidneyDisease='No', SkinCancer='No'),\n",
              " Row(HeartDisease='No', BMI=26.58, Smoking='Yes', AlcoholDrinking='No', Stroke='No', PhysicalHealth=20.0, MentalHealth=30.0, DiffWalking='No', Sex='Male', AgeCategory='65-69', Race='White', Diabetic='Yes', PhysicalActivity='Yes', GenHealth='Fair', SleepTime=8.0, Asthma='Yes', KidneyDisease='No', SkinCancer='No'),\n",
              " Row(HeartDisease='No', BMI=24.21, Smoking='No', AlcoholDrinking='No', Stroke='No', PhysicalHealth=0.0, MentalHealth=0.0, DiffWalking='No', Sex='Female', AgeCategory='75-79', Race='White', Diabetic='No', PhysicalActivity='No', GenHealth='Good', SleepTime=6.0, Asthma='No', KidneyDisease='No', SkinCancer='Yes'),\n",
              " Row(HeartDisease='No', BMI=23.71, Smoking='No', AlcoholDrinking='No', Stroke='No', PhysicalHealth=28.0, MentalHealth=0.0, DiffWalking='Yes', Sex='Female', AgeCategory='40-44', Race='White', Diabetic='No', PhysicalActivity='Yes', GenHealth='Very good', SleepTime=8.0, Asthma='No', KidneyDisease='No', SkinCancer='No')]"
            ]
          },
          "metadata": {},
          "execution_count": 8
        }
      ]
    },
    {
      "cell_type": "code",
      "source": [
        "from pyspark.sql.functions import col, count\n",
        "\n",
        "# Count missing values in each column\n",
        "missing_values = df.select([count(col(c)).alias(c) for c in df.columns])\n",
        "\n",
        "# Show the missing values count\n",
        "missing_values.show()"
      ],
      "metadata": {
        "colab": {
          "base_uri": "https://localhost:8080/"
        },
        "id": "5GZDLPBPW3_U",
        "outputId": "dcecc19a-f761-412e-c28b-d2f5edc279e4"
      },
      "execution_count": null,
      "outputs": [
        {
          "output_type": "stream",
          "name": "stdout",
          "text": [
            "+------------+------+-------+---------------+------+--------------+------------+-----------+------+-----------+------+--------+----------------+---------+---------+------+-------------+----------+\n",
            "|HeartDisease|   BMI|Smoking|AlcoholDrinking|Stroke|PhysicalHealth|MentalHealth|DiffWalking|   Sex|AgeCategory|  Race|Diabetic|PhysicalActivity|GenHealth|SleepTime|Asthma|KidneyDisease|SkinCancer|\n",
            "+------------+------+-------+---------------+------+--------------+------------+-----------+------+-----------+------+--------+----------------+---------+---------+------+-------------+----------+\n",
            "|      319795|319795| 319795|         319795|319795|        319795|      319795|     319795|319795|     319795|319795|  319795|          319795|   319795|   319795|319795|       319795|    319795|\n",
            "+------------+------+-------+---------------+------+--------------+------------+-----------+------+-----------+------+--------+----------------+---------+---------+------+-------------+----------+\n",
            "\n"
          ]
        }
      ]
    },
    {
      "cell_type": "code",
      "source": [
        "df.groupBy('AgeCategory').count().sort(\"count\",ascending=False).show()"
      ],
      "metadata": {
        "colab": {
          "base_uri": "https://localhost:8080/"
        },
        "id": "1KpkLjx9W_dJ",
        "outputId": "5242f901-8ec8-4495-fdc0-469bb7e904d5"
      },
      "execution_count": null,
      "outputs": [
        {
          "output_type": "stream",
          "name": "stdout",
          "text": [
            "+-----------+-----+\n",
            "|AgeCategory|count|\n",
            "+-----------+-----+\n",
            "|      65-69|34151|\n",
            "|      60-64|33686|\n",
            "|      70-74|31065|\n",
            "|      55-59|29757|\n",
            "|      50-54|25382|\n",
            "|80 or older|24153|\n",
            "|      45-49|21791|\n",
            "|      75-79|21482|\n",
            "|      18-24|21064|\n",
            "|      40-44|21006|\n",
            "|      35-39|20550|\n",
            "|      30-34|18753|\n",
            "|      25-29|16955|\n",
            "+-----------+-----+\n",
            "\n"
          ]
        }
      ]
    },
    {
      "cell_type": "code",
      "source": [
        "df.groupBy('Race').count().sort(\"count\",ascending=False).show()"
      ],
      "metadata": {
        "colab": {
          "base_uri": "https://localhost:8080/"
        },
        "id": "bhWKF-kvXTZM",
        "outputId": "ac856bc3-342e-48cf-a6e8-ec1d99c140b0"
      },
      "execution_count": null,
      "outputs": [
        {
          "output_type": "stream",
          "name": "stdout",
          "text": [
            "+--------------------+------+\n",
            "|                Race| count|\n",
            "+--------------------+------+\n",
            "|               White|245212|\n",
            "|            Hispanic| 27446|\n",
            "|               Black| 22939|\n",
            "|               Other| 10928|\n",
            "|               Asian|  8068|\n",
            "|American Indian/A...|  5202|\n",
            "+--------------------+------+\n",
            "\n"
          ]
        }
      ]
    },
    {
      "cell_type": "code",
      "source": [
        "df.groupBy('GenHealth').count().sort(\"count\",ascending=False).show()"
      ],
      "metadata": {
        "colab": {
          "base_uri": "https://localhost:8080/"
        },
        "id": "ufIME_zjXXoY",
        "outputId": "cdc3b2bd-b1ee-478a-ec62-443c458a8007"
      },
      "execution_count": null,
      "outputs": [
        {
          "output_type": "stream",
          "name": "stdout",
          "text": [
            "+---------+------+\n",
            "|GenHealth| count|\n",
            "+---------+------+\n",
            "|Very good|113858|\n",
            "|     Good| 93129|\n",
            "|Excellent| 66842|\n",
            "|     Fair| 34677|\n",
            "|     Poor| 11289|\n",
            "+---------+------+\n",
            "\n"
          ]
        }
      ]
    },
    {
      "cell_type": "code",
      "source": [
        "df.groupBy('SleepTime').count().sort(\"count\",ascending=False).show()"
      ],
      "metadata": {
        "colab": {
          "base_uri": "https://localhost:8080/"
        },
        "id": "xHD6_P9CXdkd",
        "outputId": "47ef61aa-c9fa-44ae-b551-e212f8b3afd4"
      },
      "execution_count": null,
      "outputs": [
        {
          "output_type": "stream",
          "name": "stdout",
          "text": [
            "+---------+-----+\n",
            "|SleepTime|count|\n",
            "+---------+-----+\n",
            "|      7.0|97751|\n",
            "|      8.0|97602|\n",
            "|      6.0|66721|\n",
            "|      5.0|19184|\n",
            "|      9.0|16041|\n",
            "|     10.0| 7796|\n",
            "|      4.0| 7750|\n",
            "|     12.0| 2205|\n",
            "|      3.0| 1992|\n",
            "|      2.0|  788|\n",
            "|      1.0|  551|\n",
            "|     11.0|  415|\n",
            "|     14.0|  243|\n",
            "|     16.0|  236|\n",
            "|     15.0|  189|\n",
            "|     18.0|  102|\n",
            "|     13.0|   97|\n",
            "|     20.0|   64|\n",
            "|     24.0|   30|\n",
            "|     17.0|   21|\n",
            "+---------+-----+\n",
            "only showing top 20 rows\n",
            "\n"
          ]
        }
      ]
    },
    {
      "cell_type": "code",
      "source": [
        "df.groupBy('Sex').count().sort(\"count\",ascending=False).show()"
      ],
      "metadata": {
        "colab": {
          "base_uri": "https://localhost:8080/"
        },
        "id": "YlIOa4bTXhVS",
        "outputId": "dcbac089-d285-43b1-a990-4c2d6d3e3c5c"
      },
      "execution_count": null,
      "outputs": [
        {
          "output_type": "stream",
          "name": "stdout",
          "text": [
            "+------+------+\n",
            "|   Sex| count|\n",
            "+------+------+\n",
            "|Female|167805|\n",
            "|  Male|151990|\n",
            "+------+------+\n",
            "\n"
          ]
        }
      ]
    },
    {
      "cell_type": "code",
      "source": [
        "df.groupBy('Diabetic').count().sort(\"count\",ascending=False).show()"
      ],
      "metadata": {
        "colab": {
          "base_uri": "https://localhost:8080/"
        },
        "id": "nhGFp3B6XosS",
        "outputId": "ef5361d1-c8f5-417f-edbb-94288c13adee"
      },
      "execution_count": null,
      "outputs": [
        {
          "output_type": "stream",
          "name": "stdout",
          "text": [
            "+--------------------+------+\n",
            "|            Diabetic| count|\n",
            "+--------------------+------+\n",
            "|                  No|269653|\n",
            "|                 Yes| 40802|\n",
            "|No, borderline di...|  6781|\n",
            "|Yes (during pregn...|  2559|\n",
            "+--------------------+------+\n",
            "\n"
          ]
        }
      ]
    },
    {
      "cell_type": "code",
      "source": [
        "df.select('SleepTime').distinct().count()"
      ],
      "metadata": {
        "colab": {
          "base_uri": "https://localhost:8080/"
        },
        "id": "swkHwlBaXvY1",
        "outputId": "8ad27fec-f7d2-4618-e3d8-710e8caaeb2b"
      },
      "execution_count": null,
      "outputs": [
        {
          "output_type": "execute_result",
          "data": {
            "text/plain": [
              "24"
            ]
          },
          "metadata": {},
          "execution_count": 16
        }
      ]
    },
    {
      "cell_type": "code",
      "source": [
        "df.filter(df['SleepTime']>=8).show()"
      ],
      "metadata": {
        "colab": {
          "base_uri": "https://localhost:8080/"
        },
        "id": "6MEn14i5XzKc",
        "outputId": "66d97035-a5be-4b21-8ede-812a49616fe5"
      },
      "execution_count": null,
      "outputs": [
        {
          "output_type": "stream",
          "name": "stdout",
          "text": [
            "+------------+-----+-------+---------------+------+--------------+------------+-----------+------+-----------+-----+--------------------+----------------+---------+---------+------+-------------+----------+\n",
            "|HeartDisease|  BMI|Smoking|AlcoholDrinking|Stroke|PhysicalHealth|MentalHealth|DiffWalking|   Sex|AgeCategory| Race|            Diabetic|PhysicalActivity|GenHealth|SleepTime|Asthma|KidneyDisease|SkinCancer|\n",
            "+------------+-----+-------+---------------+------+--------------+------------+-----------+------+-----------+-----+--------------------+----------------+---------+---------+------+-------------+----------+\n",
            "|          No|26.58|    Yes|             No|    No|          20.0|        30.0|         No|  Male|      65-69|White|                 Yes|             Yes|     Fair|      8.0|   Yes|           No|        No|\n",
            "|          No|23.71|     No|             No|    No|          28.0|         0.0|        Yes|Female|      40-44|White|                  No|             Yes|Very good|      8.0|    No|           No|        No|\n",
            "|         Yes|28.87|    Yes|             No|    No|           6.0|         0.0|        Yes|Female|      75-79|Black|                  No|              No|     Fair|     12.0|    No|           No|        No|\n",
            "|          No|31.64|    Yes|             No|    No|           5.0|         0.0|        Yes|Female|80 or older|White|                 Yes|              No|     Good|      9.0|   Yes|           No|        No|\n",
            "|          No|40.69|     No|             No|    No|           0.0|         0.0|        Yes|  Male|      65-69|White|                  No|             Yes|     Good|     10.0|    No|           No|        No|\n",
            "|         Yes| 34.3|    Yes|             No|    No|          30.0|         0.0|        Yes|  Male|      60-64|White|                 Yes|              No|     Poor|     15.0|   Yes|           No|        No|\n",
            "|          No|28.37|    Yes|             No|    No|           0.0|         0.0|        Yes|  Male|      75-79|White|                 Yes|             Yes|Very good|      8.0|    No|           No|        No|\n",
            "|          No|26.26|     No|             No|    No|           5.0|         2.0|         No|Female|      70-74|White|                  No|              No|Very good|     10.0|    No|           No|        No|\n",
            "|          No|22.59|    Yes|             No|    No|           0.0|        30.0|        Yes|  Male|      70-74|White|No, borderline di...|             Yes|     Good|      8.0|    No|           No|        No|\n",
            "|          No|18.13|     No|             No|    No|           0.0|         0.0|         No|  Male|80 or older|White|                  No|             Yes|Excellent|      8.0|    No|           No|       Yes|\n",
            "|          No|21.16|     No|             No|    No|           0.0|         0.0|         No|Female|80 or older|Black|No, borderline di...|              No|     Good|      8.0|    No|           No|        No|\n",
            "|          No|25.82|    Yes|             No|    No|           0.0|        30.0|         No|  Male|80 or older|White|                 Yes|             Yes|     Fair|      8.0|    No|           No|        No|\n",
            "|          No|34.34|    Yes|             No|    No|          21.0|         8.0|        Yes|Female|      65-69|White|                  No|             Yes|     Fair|      9.0|    No|           No|        No|\n",
            "|          No|25.84|    Yes|             No|    No|           5.0|         0.0|         No|  Male|      70-74|Black|                  No|             Yes|     Good|      8.0|    No|           No|        No|\n",
            "|          No|30.67|     No|             No|    No|           4.0|         4.0|        Yes|Female|80 or older|White|                  No|             Yes|     Fair|      8.0|   Yes|           No|        No|\n",
            "|          No|45.35|     No|             No|    No|          30.0|         0.0|        Yes|  Male|      70-74|White|                 Yes|              No|     Good|      8.0|    No|           No|        No|\n",
            "|          No|19.02|    Yes|             No|    No|           0.0|         5.0|         No|Female|      60-64|White|                  No|             Yes|Very good|      9.0|    No|           No|        No|\n",
            "|          No|27.37|    Yes|             No|    No|           0.0|         0.0|         No|Female|80 or older|White|                  No|              No|Very good|      8.0|    No|           No|        No|\n",
            "|          No| 22.6|    Yes|             No|   Yes|           0.0|        10.0|         No|Female|      55-59|White|                  No|              No|Very good|      8.0|    No|           No|        No|\n",
            "|          No|28.13|     No|             No|    No|           0.0|         0.0|         No|  Male|      60-64|White|                  No|             Yes|Excellent|      8.0|    No|           No|        No|\n",
            "+------------+-----+-------+---------------+------+--------------+------------+-----------+------+-----------+-----+--------------------+----------------+---------+---------+------+-------------+----------+\n",
            "only showing top 20 rows\n",
            "\n"
          ]
        }
      ]
    },
    {
      "cell_type": "code",
      "source": [
        "df.filter((df['BMI'] >=  18.5 ) & (df['BMI'] <= 24.9)).show()\n"
      ],
      "metadata": {
        "colab": {
          "base_uri": "https://localhost:8080/"
        },
        "id": "JCAqZgpHYFfW",
        "outputId": "d942eb3e-adbd-4562-9c63-1f0c1a99b3bc"
      },
      "execution_count": null,
      "outputs": [
        {
          "output_type": "stream",
          "name": "stdout",
          "text": [
            "+------------+-----+-------+---------------+------+--------------+------------+-----------+------+-----------+-----+--------------------+----------------+---------+---------+------+-------------+----------+\n",
            "|HeartDisease|  BMI|Smoking|AlcoholDrinking|Stroke|PhysicalHealth|MentalHealth|DiffWalking|   Sex|AgeCategory| Race|            Diabetic|PhysicalActivity|GenHealth|SleepTime|Asthma|KidneyDisease|SkinCancer|\n",
            "+------------+-----+-------+---------------+------+--------------+------------+-----------+------+-----------+-----+--------------------+----------------+---------+---------+------+-------------+----------+\n",
            "|          No|20.34|     No|             No|   Yes|           0.0|         0.0|         No|Female|80 or older|White|                  No|             Yes|Very good|      7.0|    No|           No|        No|\n",
            "|          No|24.21|     No|             No|    No|           0.0|         0.0|         No|Female|      75-79|White|                  No|              No|     Good|      6.0|    No|           No|       Yes|\n",
            "|          No|23.71|     No|             No|    No|          28.0|         0.0|        Yes|Female|      40-44|White|                  No|             Yes|Very good|      8.0|    No|           No|        No|\n",
            "|          No|21.63|     No|             No|    No|          15.0|         0.0|         No|Female|      70-74|White|                  No|             Yes|     Fair|      4.0|   Yes|           No|       Yes|\n",
            "|          No|22.59|    Yes|             No|    No|           0.0|        30.0|        Yes|  Male|      70-74|White|No, borderline di...|             Yes|     Good|      8.0|    No|           No|        No|\n",
            "|          No|21.16|     No|             No|    No|           0.0|         0.0|         No|Female|80 or older|Black|No, borderline di...|              No|     Good|      8.0|    No|           No|        No|\n",
            "|          No|24.89|     No|             No|    No|           1.0|         0.0|         No|Female|      55-59|White|                  No|             Yes|Very good|      7.0|    No|           No|        No|\n",
            "|          No|19.02|    Yes|             No|    No|           0.0|         5.0|         No|Female|      60-64|White|                  No|             Yes|Very good|      9.0|    No|           No|        No|\n",
            "|          No|24.62|     No|             No|    No|           5.0|         0.0|         No|Female|80 or older|White|                  No|             Yes|     Good|      6.0|    No|           No|        No|\n",
            "|          No|20.43|    Yes|             No|    No|           3.0|         3.0|         No|Female|      65-69|White|                  No|             Yes|     Fair|      5.0|   Yes|           No|       Yes|\n",
            "|          No|21.93|     No|             No|    No|           3.0|         2.0|         No|Female|      70-74|Black|                  No|             Yes|     Fair|      4.0|    No|          Yes|        No|\n",
            "|          No| 22.6|    Yes|             No|   Yes|           0.0|        10.0|         No|Female|      55-59|White|                  No|              No|Very good|      8.0|    No|           No|        No|\n",
            "|         Yes|20.37|    Yes|             No|    No|           3.0|         0.0|         No|Female|      70-74|White|                  No|              No|     Poor|     10.0|    No|           No|        No|\n",
            "|          No|20.12|     No|             No|    No|           0.0|         0.0|        Yes|Female|80 or older|White|                  No|              No|     Fair|      7.0|    No|           No|       Yes|\n",
            "|          No|24.02|     No|            Yes|    No|           7.0|         0.0|         No|Female|      60-64|White|                  No|             Yes|Excellent|      6.0|    No|           No|        No|\n",
            "|          No|21.03|     No|             No|    No|           1.0|         0.0|         No|Female|80 or older|White|                  No|             Yes|Excellent|      8.0|    No|           No|        No|\n",
            "|          No|22.31|     No|             No|    No|           0.0|         0.0|         No|Female|80 or older|White|                  No|             Yes|Very good|      6.0|    No|           No|       Yes|\n",
            "|          No|24.21|     No|             No|    No|           3.0|         0.0|         No|Female|      50-54|Black|                  No|             Yes|     Good|      8.0|    No|           No|        No|\n",
            "|          No|22.04|     No|             No|    No|           0.0|         0.0|         No|  Male|      65-69|White|                  No|             Yes|Very good|      8.0|    No|           No|        No|\n",
            "|          No|23.87|     No|             No|    No|           0.0|         0.0|         No|  Male|80 or older|White|                  No|             Yes|Very good|      7.0|    No|           No|        No|\n",
            "+------------+-----+-------+---------------+------+--------------+------------+-----------+------+-----------+-----+--------------------+----------------+---------+---------+------+-------------+----------+\n",
            "only showing top 20 rows\n",
            "\n"
          ]
        }
      ]
    },
    {
      "cell_type": "code",
      "source": [
        "from pyspark.ml.feature import VectorAssembler\n",
        "from pyspark.ml.stat import Correlation\n",
        "import matplotlib.pyplot as plt\n",
        "import seaborn as sns\n",
        "\n",
        "\n",
        "# Select numerical columns for correlation matrix\n",
        "numerical_cols = ['BMI', 'PhysicalHealth', 'MentalHealth', 'SleepTime']\n",
        "\n",
        "# Assemble the features into a single vector column\n",
        "assembler = VectorAssembler(inputCols=numerical_cols, outputCol=\"features\")\n",
        "data_assembled = assembler.transform(df)\n",
        "\n",
        "# Calculate the correlation matrix\n",
        "correlation_matrix = Correlation.corr(data_assembled, \"features\").head()\n",
        "\n",
        "# Extract the correlation matrix values\n",
        "correlation_values = correlation_matrix[0].toArray()\n",
        "\n",
        "# Display the correlation matrix using seaborn\n",
        "plt.figure(figsize=(8, 6))\n",
        "sns.heatmap(correlation_values, annot=True, cmap='coolwarm', xticklabels=numerical_cols, yticklabels=numerical_cols)\n",
        "plt.title(\"Correlation Matrix\")\n",
        "plt.show()\n"
      ],
      "metadata": {
        "colab": {
          "base_uri": "https://localhost:8080/",
          "height": 545
        },
        "id": "U9JdCVMQY42U",
        "outputId": "3fc4d048-9a4b-4392-e435-c077063196b4"
      },
      "execution_count": null,
      "outputs": [
        {
          "output_type": "display_data",
          "data": {
            "text/plain": [
              "<Figure size 800x600 with 2 Axes>"
            ],
            "image/png": "[encoded data removed]"
          },
          "metadata": {}
        }
      ]
    },
    {
      "cell_type": "code",
      "source": [
        "from pyspark.ml.feature import StringIndexer, OneHotEncoder, VectorAssembler\n",
        "from pyspark.ml.classification import LogisticRegression, DecisionTreeClassifier, RandomForestClassifier, NaiveBayes\n",
        "from pyspark.ml.evaluation import MulticlassClassificationEvaluator\n",
        "from pyspark.ml import Pipeline\n",
        "from pyspark.sql.functions import col\n",
        "import numpy as np\n",
        "import matplotlib.pyplot as plt\n",
        "import seaborn as sns\n",
        "\n",
        "\n",
        "# Define the categorical columns and index them\n",
        "categorical_cols = ['Smoking', 'AlcoholDrinking', 'Stroke', 'Sex', 'AgeCategory', 'Race', 'Diabetic', 'PhysicalActivity', 'GenHealth', 'Asthma', 'KidneyDisease', 'SkinCancer']\n",
        "indexers = [StringIndexer(inputCol=col, outputCol=col + \"_index\").fit(df) for col in categorical_cols]\n",
        "data_indexed = df\n",
        "for indexer in indexers:\n",
        "    data_indexed = indexer.transform(data_indexed)\n",
        "\n",
        "# One-hot encode categorical index columns\n",
        "encoder = OneHotEncoder(inputCols=[col + \"_index\" for col in categorical_cols], outputCols=[col + \"_encoded\" for col in categorical_cols])\n",
        "encoder_model = encoder.fit(data_indexed)\n",
        "data_encoded = encoder_model.transform(data_indexed)\n",
        "\n",
        "# Assemble feature columns into a single vector column\n",
        "feature_columns = ['BMI', 'PhysicalHealth', 'MentalHealth', 'SleepTime'] + [col + \"_encoded\" for col in categorical_cols]\n",
        "assembler = VectorAssembler(inputCols=feature_columns, outputCol=\"features\")\n",
        "data_final = assembler.transform(data_encoded)\n",
        "\n",
        "# Convert target column to numerical label\n",
        "label_indexer = StringIndexer(inputCol='HeartDisease', outputCol='label')\n",
        "data_final = label_indexer.fit(data_final).transform(data_final)\n",
        "# Split the data into training and testing sets\n",
        "train_data, test_data = data_final.randomSplit([0.8, 0.2], seed=42)\n",
        "\n",
        "# Create a list of classifiers\n",
        "classifiers = [\n",
        "    (\"Logistic Regression\", LogisticRegression(featuresCol=\"features\", labelCol=\"label\")),\n",
        "    (\"Decision Tree\", DecisionTreeClassifier(featuresCol=\"features\", labelCol=\"label\")),\n",
        "    (\"Random Forest\", RandomForestClassifier(featuresCol=\"features\", labelCol=\"label\")),\n",
        "    (\"Naive Bayes\", NaiveBayes(featuresCol=\"features\", labelCol=\"label\"))\n",
        "]\n",
        "\n",
        "# Initialize lists to store evaluation results\n",
        "accuracies = []\n",
        "precisions = []\n",
        "f1_scores = []\n",
        "\n",
        "# Iterate over classifiers\n",
        "for clf_name, classifier in classifiers:\n",
        "    # Build and train the classifier\n",
        "    model = classifier.fit(train_data)\n",
        "\n",
        "    # Make predictions on the test data\n",
        "    predictions = model.transform(test_data)\n",
        "\n",
        "    # Evaluate the model\n",
        "    evaluator = MulticlassClassificationEvaluator(labelCol=\"label\", predictionCol=\"prediction\")\n",
        "    accuracy = evaluator.evaluate(predictions, {evaluator.metricName: \"accuracy\"})\n",
        "    precision = evaluator.evaluate(predictions, {evaluator.metricName: \"weightedPrecision\"})\n",
        "    f1 = evaluator.evaluate(predictions, {evaluator.metricName: \"weightedFMeasure\"})\n",
        "\n",
        "    accuracies.append(accuracy)\n",
        "    precisions.append(precision)\n",
        "    f1_scores.append(f1)\n",
        "\n",
        "    print(f\"{clf_name} Evaluation:\")\n",
        "    print(f\"Accuracy: {accuracy}\")\n",
        "    print(f\"Precision: {precision}\")\n",
        "    print(f\"F1 Score: {f1}\")\n",
        "    print(\"=\" * 40)\n",
        "\n",
        "# Close the Spark session\n",
        "spark.stop()\n",
        "\n",
        "# Plot the comparison with custom colors\n",
        "plt.figure(figsize=(10, 6))\n",
        "\n",
        "# Define custom colors\n",
        "colors = ['#3498db', '#2ecc71', '#e74c3c']\n",
        "\n",
        "# Plot the bars with custom colors\n",
        "sns.barplot(x=[clf_name for clf_name, _ in classifiers], y=accuracies, color=colors[0], label='Accuracy')\n",
        "sns.barplot(x=[clf_name for clf_name, _ in classifiers], y=precisions, color=colors[1], label='Precision')\n",
        "sns.barplot(x=[clf_name for clf_name, _ in classifiers], y=f1_scores, color=colors[2], label='F1 Score')\n",
        "\n",
        "plt.xlabel('Classifier')\n",
        "plt.ylabel('Score')\n",
        "plt.title('Classifier Comparison')\n",
        "plt.xticks(rotation=45, ha='right')\n",
        "plt.legend()\n",
        "plt.tight_layout()\n",
        "plt.show()"
      ],
      "metadata": {
        "colab": {
          "base_uri": "https://localhost:8080/",
          "height": 992
        },
        "id": "TYGD-72ZaN1e",
        "outputId": "a5171130-7084-46c6-b42a-94c8925a0021"
      },
      "execution_count": null,
      "outputs": [
        {
          "output_type": "stream",
          "name": "stdout",
          "text": [
            "DataFrame[HeartDisease: string, BMI: double, Smoking: string, AlcoholDrinking: string, Stroke: string, PhysicalHealth: double, MentalHealth: double, DiffWalking: string, Sex: string, AgeCategory: string, Race: string, Diabetic: string, PhysicalActivity: string, GenHealth: string, SleepTime: double, Asthma: string, KidneyDisease: string, SkinCancer: string, Smoking_index: double, AlcoholDrinking_index: double, Stroke_index: double, Sex_index: double, AgeCategory_index: double, Race_index: double, Diabetic_index: double, PhysicalActivity_index: double, GenHealth_index: double, Asthma_index: double, KidneyDisease_index: double, SkinCancer_index: double, Smoking_encoded: vector, AlcoholDrinking_encoded: vector, Stroke_encoded: vector, Sex_encoded: vector, AgeCategory_encoded: vector, Race_encoded: vector, Diabetic_encoded: vector, PhysicalActivity_encoded: vector, GenHealth_encoded: vector, Asthma_encoded: vector, KidneyDisease_encoded: vector, SkinCancer_encoded: vector, features: vector, label: double]\n",
            "Logistic Regression Evaluation:\n",
            "Accuracy: 0.9151863897923442\n",
            "Precision: 0.8890881527926686\n",
            "F1 Score: 0.8880991834091875\n",
            "========================================\n",
            "Decision Tree Evaluation:\n",
            "Accuracy: 0.9139823617713285\n",
            "Precision: 0.8829215502629997\n",
            "F1 Score: 0.8786542402087123\n",
            "========================================\n",
            "Random Forest Evaluation:\n",
            "Accuracy: 0.9136227170377783\n",
            "Precision: 0.8347064690874924\n",
            "F1 Score: 0.8723835285354358\n",
            "========================================\n",
            "Naive Bayes Evaluation:\n",
            "Accuracy: 0.8377220415311484\n",
            "Precision: 0.8702250608482469\n",
            "F1 Score: 0.8524572965667959\n",
            "========================================\n"
          ]
        },
        {
          "output_type": "display_data",
          "data": {
            "text/plain": [
              "<Figure size 1000x600 with 1 Axes>"
            ],
            "image/png": "[encoded data removed]"
          },
          "metadata": {}
        }
      ]
    }
  ]
}